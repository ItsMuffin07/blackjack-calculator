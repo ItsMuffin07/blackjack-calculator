{
 "cells": [
  {
   "cell_type": "code",
   "id": "initial_id",
   "metadata": {
    "collapsed": true,
    "ExecuteTime": {
     "end_time": "2024-07-24T11:36:47.279881Z",
     "start_time": "2024-07-24T11:28:58.233002Z"
    }
   },
   "source": [
    "import pandas as pd\n",
    "import numpy as np\n",
    "import blackjack\n",
    "\n",
    "EMPTY_DECK = (2, 2, 2, 2,\n",
    "              3, 3, 3, 3,\n",
    "              4, 4, 4, 4,\n",
    "              5, 5, 5, 5,\n",
    "              6, 6, 6, 6,\n",
    "              7, 7, 7, 7,\n",
    "              8, 8, 8, 8,\n",
    "              9, 9, 9, 9,\n",
    "              10, 10, 10, 10,\n",
    "              10, 10, 10, 10,  # Jacks\n",
    "              10, 10, 10, 10,  # Queens\n",
    "              10, 10, 10, 10,  # Kings\n",
    "              11, 11, 11, 11)  # Aces\n",
    "EIGHT_DECK = list(EMPTY_DECK)\n",
    "for i in range(7):\n",
    "    temp = list(EMPTY_DECK)\n",
    "    for card in temp:\n",
    "        EIGHT_DECK.append(card)\n",
    "\n",
    "deck = EIGHT_DECK.copy()\n",
    "\n",
    "data = np.zeros((10,10,10))\n",
    "for dealer_card in range(2,12):\n",
    "    for player_card_1 in range(2,12):\n",
    "        for player_card_2 in range(2,12):\n",
    "            deck = EIGHT_DECK.copy()\n",
    "            deck.remove(dealer_card)\n",
    "            deck.remove(player_card_1)\n",
    "            deck.remove(player_card_2)\n",
    "            win, stand, hit = blackjack.calculate_all(deck=deck,\n",
    "                                                      hand=(player_card_1, player_card_2),\n",
    "                                                      dealer_card=(dealer_card,))\n",
    "            data[dealer_card-2][player_card_1-2][player_card_2-2] = win\n",
    "\n",
    "data = np.savetxt(\"data.csv\", data, delimiter=\",\")"
   ],
   "outputs": [
    {
     "ename": "ValueError",
     "evalue": "list.remove(x): x not in list",
     "output_type": "error",
     "traceback": [
      "\u001B[1;31m---------------------------------------------------------------------------\u001B[0m",
      "\u001B[1;31mValueError\u001B[0m                                Traceback (most recent call last)",
      "Cell \u001B[1;32mIn[9], line 30\u001B[0m\n\u001B[0;32m     28\u001B[0m \u001B[38;5;28;01mfor\u001B[39;00m player_card_1 \u001B[38;5;129;01min\u001B[39;00m \u001B[38;5;28mrange\u001B[39m(\u001B[38;5;241m2\u001B[39m,\u001B[38;5;241m12\u001B[39m):\n\u001B[0;32m     29\u001B[0m     \u001B[38;5;28;01mfor\u001B[39;00m player_card_2 \u001B[38;5;129;01min\u001B[39;00m \u001B[38;5;28mrange\u001B[39m(\u001B[38;5;241m2\u001B[39m,\u001B[38;5;241m12\u001B[39m):\n\u001B[1;32m---> 30\u001B[0m         \u001B[43mdeck\u001B[49m\u001B[38;5;241;43m.\u001B[39;49m\u001B[43mremove\u001B[49m\u001B[43m(\u001B[49m\u001B[43mdealer_card\u001B[49m\u001B[43m)\u001B[49m\n\u001B[0;32m     31\u001B[0m         deck\u001B[38;5;241m.\u001B[39mremove(player_card_1)\n\u001B[0;32m     32\u001B[0m         deck\u001B[38;5;241m.\u001B[39mremove(player_card_2)\n",
      "\u001B[1;31mValueError\u001B[0m: list.remove(x): x not in list"
     ]
    }
   ],
   "execution_count": 9
  },
  {
   "metadata": {
    "ExecuteTime": {
     "end_time": "2024-07-24T11:25:33.829559Z",
     "start_time": "2024-07-24T11:25:33.826568Z"
    }
   },
   "cell_type": "code",
   "source": "",
   "id": "1a29155d488a7d0b",
   "outputs": [],
   "execution_count": 7
  },
  {
   "metadata": {},
   "cell_type": "code",
   "outputs": [],
   "execution_count": null,
   "source": "",
   "id": "2409163f0ebf1ac5"
  }
 ],
 "metadata": {
  "kernelspec": {
   "display_name": "Python 3",
   "language": "python",
   "name": "python3"
  },
  "language_info": {
   "codemirror_mode": {
    "name": "ipython",
    "version": 2
   },
   "file_extension": ".py",
   "mimetype": "text/x-python",
   "name": "python",
   "nbconvert_exporter": "python",
   "pygments_lexer": "ipython2",
   "version": "2.7.6"
  }
 },
 "nbformat": 4,
 "nbformat_minor": 5
}
